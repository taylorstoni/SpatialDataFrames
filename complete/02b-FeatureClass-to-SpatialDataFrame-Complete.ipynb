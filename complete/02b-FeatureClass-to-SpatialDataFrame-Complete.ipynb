{
 "cells": [
  {
   "cell_type": "markdown",
   "metadata": {},
   "source": [
    "# Converting Feature Classes to Spatial Dataframes\n"
   ]
  },
  {
   "cell_type": "markdown",
   "metadata": {},
   "source": [
    "---\n",
    "### Using the ArcGIS Python API\n",
    "* https://esri.github.io/arcgis-python-api/apidoc/html/arcgis.features.toc.html?#arcgis.features.GeoAccessor.from_featureclass\n",
    "* https://developers.arcgis.com/python/guide/introduction-to-the-spatially-enabled-dataframe/#Accessing-local-GIS-data\n",
    "\n",
    "*The ArcGIS API can also easily import shapefiles into spatially enabled dataframes. This is a useful way to work with local data with the API (vs. using on-line content).*"
   ]
  },
  {
   "cell_type": "code",
   "execution_count": null,
   "metadata": {},
   "outputs": [],
   "source": [
    "#Import pandas and the arcgis package\n",
    "import pandas as pd\n",
    "import arcgis"
   ]
  },
  {
   "cell_type": "code",
   "execution_count": null,
   "metadata": {},
   "outputs": [],
   "source": [
    "#Get the HUC filename\n",
    "theShapefile = '../data/12Digit_HUC_Subwatersheds.shp'"
   ]
  },
  {
   "cell_type": "code",
   "execution_count": null,
   "metadata": {},
   "outputs": [],
   "source": [
    "#Read the shapefile into a sdf\n",
    "sdfHUC12 = pd.DataFrame.spatial.from_featureclass(theShapefile)"
   ]
  },
  {
   "cell_type": "markdown",
   "metadata": {},
   "source": [
    "### Explore the spatial dataframe"
   ]
  },
  {
   "cell_type": "code",
   "execution_count": null,
   "metadata": {},
   "outputs": [],
   "source": [
    "#Show column info\n",
    "sdfHUC12.info()"
   ]
  },
  {
   "cell_type": "code",
   "execution_count": null,
   "metadata": {},
   "outputs": [],
   "source": [
    "#Show the first 5 rows\n",
    "sdfHUC12.head()"
   ]
  },
  {
   "cell_type": "code",
   "execution_count": null,
   "metadata": {},
   "outputs": [],
   "source": [
    "#Show the spatial reference\n",
    "sdfHUC12.spatial.sr"
   ]
  },
  {
   "cell_type": "code",
   "execution_count": null,
   "metadata": {},
   "outputs": [],
   "source": [
    "#Plot the data\n",
    "sdfHUC12.spatial.plot()"
   ]
  },
  {
   "cell_type": "markdown",
   "metadata": {},
   "source": [
    "### Create a spatial dataframe from a web service\n",
    "Recall the source of the NC_NPDES.json file used in the last exercise. The data came from an ESRI web service (that we'll discuss more about later), located here:  \n",
    "https://services.nconemap.gov/secure/rest/services/NC1Map_Environment/FeatureServer/4  \n",
    "\n",
    "The ArcGIS Python API can read these services directly. "
   ]
  },
  {
   "cell_type": "code",
   "execution_count": null,
   "metadata": {},
   "outputs": [],
   "source": [
    "#Set the URL as a variable\n",
    "theURL = 'https://services.nconemap.gov/secure/rest/services/NC1Map_Environment/FeatureServer/4'"
   ]
  },
  {
   "cell_type": "code",
   "execution_count": null,
   "metadata": {},
   "outputs": [],
   "source": [
    "#Create a layer object from the service\n",
    "feature_layer = arcgis.features.FeatureLayer(theURL)\n",
    "type(feature_layer)"
   ]
  },
  {
   "cell_type": "code",
   "execution_count": null,
   "metadata": {},
   "outputs": [],
   "source": [
    "#We can convert this to a spatial dataframe\n",
    "sdf_NPDES = pd.DataFrame.spatial.from_layer(feature_layer)"
   ]
  },
  {
   "cell_type": "code",
   "execution_count": null,
   "metadata": {},
   "outputs": [],
   "source": [
    "#Plot the spatial dataframe\n",
    "sdf_NPDES.spatial.plot()"
   ]
  }
 ],
 "metadata": {
  "kernelspec": {
   "display_name": "Python 3",
   "language": "python",
   "name": "python3"
  },
  "language_info": {
   "codemirror_mode": {
    "name": "ipython",
    "version": 3
   },
   "file_extension": ".py",
   "mimetype": "text/x-python",
   "name": "python",
   "nbconvert_exporter": "python",
   "pygments_lexer": "ipython3",
   "version": "3.6.10"
  }
 },
 "nbformat": 4,
 "nbformat_minor": 2
}
